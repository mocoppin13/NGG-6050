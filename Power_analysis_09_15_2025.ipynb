{
  "nbformat": 4,
  "nbformat_minor": 0,
  "metadata": {
    "colab": {
      "provenance": []
    },
    "kernelspec": {
      "name": "python3",
      "display_name": "Python 3"
    },
    "language_info": {
      "name": "python"
    }
  },
  "cells": [
    {
      "cell_type": "code",
      "execution_count": null,
      "metadata": {
        "id": "GWFH5LrqNduA"
      },
      "outputs": [],
      "source": [
        "import numpy as np\n",
        "import matplotlib.pyplot as plt\n",
        "from statsmodels.stats.power import TTestIndPower\n",
        "from scipy.stats import pearsonr\n",
        "\n",
        "# --------------------------\n",
        "# Step 1: Simulation function\n",
        "# --------------------------\n",
        "def simulate_correlations(n_sessions, effect_size=0.0, n_trials=100):\n",
        "    \"\"\"\n",
        "    Simulate correlation coefficients between LC spiking (Poisson) and\n",
        "    pupil diameter (Gaussian) across n_sessions.\n",
        "\n",
        "    Parameters:\n",
        "        n_sessions (int): number of simulated experimental sessions\n",
        "        effect_size (float): strength of correlation (0 = null)\n",
        "        n_trials (int): number of trials per session\n",
        "    Returns:\n",
        "        corrs (array): correlation coefficients per session\n",
        "    \"\"\"\n",
        "    corrs = []\n",
        "    for _ in range(n_sessions):\n",
        "        # Simulate LC spiking (Poisson distributed)\n",
        "        lc = np.random.poisson(lam=5, size=n_trials)\n",
        "\n",
        "        # Simulate pupil diameter (Gaussian distributed)\n",
        "        pupil = np.random.normal(loc=0, scale=1, size=n_trials)\n",
        "\n",
        "        # Add correlation effect if effect_size > 0\n",
        "        pupil = pupil + effect_size * (lc - np.mean(lc))\n",
        "\n",
        "        # Compute correlation\n",
        "        r, _ = pearsonr(lc, pupil)\n",
        "        corrs.append(r)\n",
        "    return np.array(corrs)\n",
        "\n",
        "# --------------------------\n",
        "# Step 2: Power analysis setup\n",
        "# --------------------------\n",
        "analysis = TTestIndPower()\n",
        "\n",
        "effect_sizes = np.linspace(0.1, 1.0, 10)  # possible effect sizes (Cohen's d)\n",
        "sample_sizes = []\n",
        "\n",
        "for es in effect_sizes:\n",
        "    # For demonstration: compute required n to achieve 80% power\n",
        "    n_needed = analysis.solve_power(effect_size=es, power=0.8, alpha=0.05, alternative='two-sided')\n",
        "    sample_sizes.append(np.ceil(n_needed))\n",
        "\n",
        "# --------------------------\n",
        "# Step 3: Plot results\n",
        "# --------------------------\n",
        "plt.figure(figsize=(8,5))\n",
        "plt.plot(effect_sizes, sample_sizes, marker='o')\n",
        "plt.xlabel(\"Effect size (Cohen's d)\")\n",
        "plt.ylabel(\"Number of sessions needed (n)\")\n",
        "plt.title(\"Post-hoc power analysis (80% power)\")\n",
        "plt.grid(True)\n",
        "plt.show()\n"
      ]
    }
  ]
}